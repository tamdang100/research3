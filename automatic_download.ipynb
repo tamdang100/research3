{
 "cells": [
  {
   "cell_type": "code",
   "execution_count": 1,
   "metadata": {},
   "outputs": [],
   "source": [
    "# Import libraries and packages for the project\n",
    "\n",
    "from selenium import webdriver\n",
    "from selenium.webdriver.common.by import By\n",
    "from selenium.webdriver.common.keys import Keys\n",
    "\n",
    "from time import sleep\n",
    "\n",
    "\n",
    "\n",
    "from selenium.webdriver.support.ui import WebDriverWait\n",
    "from selenium.webdriver.common.by import By\n",
    "from selenium.webdriver.support import expected_conditions as EC\n",
    "\n",
    "\n",
    "from selenium import webdriver\n",
    "import autoit   ### need to \"pip install -U pyautoit\" first\n",
    "import time\n",
    "\n",
    "\n",
    "from selenium.webdriver.support.ui import WebDriverWait\n",
    "from selenium.webdriver.common.by import By\n",
    "from selenium.webdriver.support import expected_conditions as EC\n",
    "import json\n",
    "from selenium import webdriver\n"
   ]
  },
  {
   "cell_type": "code",
   "execution_count": 2,
   "metadata": {},
   "outputs": [],
   "source": [
    "# Open Chrome \n",
    "import json\n",
    "from selenium import webdriver\n",
    "\n",
    "appState = {\n",
    "    \"recentDestinations\": [\n",
    "        {\n",
    "            \"id\": \"Save as PDF\",\n",
    "            \"origin\": \"local\",\n",
    "            \"account\": \"\"\n",
    "        }\n",
    "    ],\n",
    "    \"selectedDestinationId\": \"Save as PDF\",\n",
    "    \"version\": 2\n",
    "}\n",
    "\n",
    "profile = {'printing.print_preview_sticky_settings.appState': json.dumps(appState)}\n",
    "\n",
    "chrome_options = webdriver.ChromeOptions()\n",
    "chrome_options.add_experimental_option('prefs', profile)\n",
    "chrome_options.add_argument('--kiosk-printing')\n",
    "\n",
    "\n",
    "driver = webdriver.Chrome(options=chrome_options)\n",
    "link = 'https://viewpoint.eiu.com/analysis'\n",
    "driver.get(link)\n",
    "sleep(2)"
   ]
  },
  {
   "cell_type": "code",
   "execution_count": 3,
   "metadata": {},
   "outputs": [],
   "source": [
    "# Paste link and download\n",
    "    \n",
    "urls = open('url_1996_2010.txt')\n",
    "line = urls.readlines()\n",
    "\n",
    "for  url in line:\n",
    "        driver.get(url)\n",
    "    \n",
    "        # Download\n",
    "        time.sleep(8)\n",
    "        driver.maximize_window()\n",
    "        time.sleep(8)\n",
    "        driver.execute_script('window.print();')\n",
    "        time.sleep(10)"
   ]
  }
 ],
 "metadata": {
  "kernelspec": {
   "display_name": "Python 3.10.6 64-bit",
   "language": "python",
   "name": "python3"
  },
  "language_info": {
   "codemirror_mode": {
    "name": "ipython",
    "version": 3
   },
   "file_extension": ".py",
   "mimetype": "text/x-python",
   "name": "python",
   "nbconvert_exporter": "python",
   "pygments_lexer": "ipython3",
   "version": "3.10.8"
  },
  "orig_nbformat": 4,
  "vscode": {
   "interpreter": {
    "hash": "a42ccb73e7d9bfdf27e036f1d2b8b681e55fc0743cc5586bc2474d4a60f4b886"
   }
  }
 },
 "nbformat": 4,
 "nbformat_minor": 2
}
